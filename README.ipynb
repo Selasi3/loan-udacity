{
 "cells": [
  {
   "cell_type": "markdown",
   "id": "e42d85ee",
   "metadata": {},
   "source": [
    "### Prosper Loan Data Exploration\n",
    "-----------------------------\n",
    "#### by Selasi Ayittah"
   ]
  },
  {
   "cell_type": "markdown",
   "id": "ad7c608e",
   "metadata": {},
   "source": [
    "### Dataset"
   ]
  },
  {
   "cell_type": "markdown",
   "id": "857d8ab0",
   "metadata": {},
   "source": [
    "The dataset comprises of 113937 loans of borrowers and 81 features.\n",
    "Some of the features include BorrowerAPR, stated monthly income, Term, loan status and many more"
   ]
  },
  {
   "cell_type": "markdown",
   "id": "552d4a1d",
   "metadata": {},
   "source": [
    "### Summary of Findings"
   ]
  },
  {
   "cell_type": "markdown",
   "id": "9d69e594",
   "metadata": {},
   "source": [
    "The main aim of the project is to find which features are best for predicting the Borrower APR for a loan"
   ]
  },
  {
   "cell_type": "markdown",
   "id": "1c2c9efb",
   "metadata": {},
   "source": [
    "- The borrower APR decreases with increase of loan amount in general.\n",
    "- Prosper rating has a great effect on borrower APR. Borrowers with best ratings have low APR.\n",
    "- The loan amount increases with better rating. The borrower APR decreases with better rating. The relationship between borrower APR and loan amount turns from negative to slightly positive when the Prosper ratings are increased from HR to A or better"
   ]
  },
  {
   "cell_type": "code",
   "execution_count": null,
   "id": "f3dc96d3",
   "metadata": {},
   "outputs": [],
   "source": []
  }
 ],
 "metadata": {
  "kernelspec": {
   "display_name": "Python 3 (ipykernel)",
   "language": "python",
   "name": "python3"
  },
  "language_info": {
   "codemirror_mode": {
    "name": "ipython",
    "version": 3
   },
   "file_extension": ".py",
   "mimetype": "text/x-python",
   "name": "python",
   "nbconvert_exporter": "python",
   "pygments_lexer": "ipython3",
   "version": "3.9.12"
  }
 },
 "nbformat": 4,
 "nbformat_minor": 5
}
