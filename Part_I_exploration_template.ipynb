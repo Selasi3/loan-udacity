{
 "cells": [
  {
   "cell_type": "markdown",
   "metadata": {},
   "source": [
    "# Part I - (Prosper Loan Data Analysis)\n",
    "## by (Selasi Ayittah Randy)\n",
    "\n",
    "\n",
    "\n",
    "## Preliminary Wrangling\n",
    "\n",
    "> The dataset containing 113,937 loans with 81 variables on each loan, including loan amount, borrower rate (or interest rate), current loan status, borrower income, and many others.\n"
   ]
  },
  {
   "cell_type": "code",
   "execution_count": null,
   "metadata": {},
   "outputs": [],
   "source": [
    "# import all packages and set plots to be embedded inline\n",
    "import numpy as np\n",
    "import pandas as pd\n",
    "import matplotlib.pyplot as plt\n",
    "import seaborn as sb\n",
    "\n",
    "%matplotlib inline"
   ]
  },
  {
   "cell_type": "code",
   "execution_count": null,
   "metadata": {},
   "outputs": [],
   "source": [
    "#Load the dataset\n",
    "loan = pd.read_csv(\"prosperLoanData.csv\")"
   ]
  },
  {
   "cell_type": "code",
   "execution_count": null,
   "metadata": {},
   "outputs": [],
   "source": [
    "loan_data = loan.copy()"
   ]
  },
  {
   "cell_type": "code",
   "execution_count": null,
   "metadata": {},
   "outputs": [],
   "source": [
    "#Shape of the dataset\n",
    "loan_data.shape"
   ]
  },
  {
   "cell_type": "code",
   "execution_count": null,
   "metadata": {},
   "outputs": [],
   "source": [
    "loan_data.dtypes"
   ]
  },
  {
   "cell_type": "code",
   "execution_count": null,
   "metadata": {},
   "outputs": [],
   "source": [
    "#Checking for columns with null values\n",
    "loan_data.isnull().sum()"
   ]
  },
  {
   "cell_type": "code",
   "execution_count": null,
   "metadata": {},
   "outputs": [],
   "source": [
    "loan_data.describe()"
   ]
  },
  {
   "cell_type": "code",
   "execution_count": null,
   "metadata": {},
   "outputs": [],
   "source": [
    "selected_columns = ['LoanOriginalAmount', 'BorrowerAPR',\"ProsperScore\", 'StatedMonthlyIncome', 'Term', 'ProsperRating (Alpha)', \n",
    "        'EmploymentStatus','LoanStatus']"
   ]
  },
  {
   "cell_type": "code",
   "execution_count": null,
   "metadata": {},
   "outputs": [],
   "source": [
    "#Selected columns of interest\n",
    "loan_data_cols =loan_data[selected_columns]\n",
    "loan_data_cols"
   ]
  },
  {
   "cell_type": "code",
   "execution_count": null,
   "metadata": {},
   "outputs": [],
   "source": [
    "loan_data_cols.info()"
   ]
  },
  {
   "cell_type": "code",
   "execution_count": null,
   "metadata": {},
   "outputs": [],
   "source": [
    "#Drop rows with misssing APR\n",
    "loan_data_cols=loan_data_cols[~loan_data_cols[\"BorrowerAPR\"].isnull()]"
   ]
  },
  {
   "cell_type": "code",
   "execution_count": null,
   "metadata": {},
   "outputs": [],
   "source": [
    "loan_data_cols.info()"
   ]
  },
  {
   "cell_type": "markdown",
   "metadata": {},
   "source": [
    "### What is the structure of your dataset?\n",
    "\n",
    "> The dataset comprises of 113937 rows  and 81 columns\n",
    "\n",
    "### What is/are the main feature(s) of interest in your dataset?\n",
    "\n",
    "> I am interested in finding out whuch features are best for predicting the Borrower APR for a loan\n",
    "\n",
    "### What features in the dataset do you think will help support your investigation into your feature(s) of interest?\n",
    "\n",
    "> I expect that the larger the loan the lower the APR and bprrowers with higher stated monthly income will have higher loan amount"
   ]
  },
  {
   "cell_type": "markdown",
   "metadata": {},
   "source": [
    "## Univariate Exploration\n"
   ]
  },
  {
   "cell_type": "code",
   "execution_count": null,
   "metadata": {},
   "outputs": [],
   "source": [
    "#Distribution of the Loan Original Amount\n",
    "binsize = 2500\n",
    "bins = np.arange(0, loan_data_cols['LoanOriginalAmount'].max()+binsize, binsize)\n",
    "\n",
    "plt.figure(figsize=[8, 5])\n",
    "plt.hist(data = loan_data_cols, x = 'LoanOriginalAmount', bins = bins)\n",
    "plt.xlabel('LoanOriginalAmount')\n",
    "plt.title('Distribution of the LoanOriginalAmount')\n",
    "plt.show()"
   ]
  },
  {
   "cell_type": "markdown",
   "metadata": {},
   "source": [
    "The distribution of the Loan Original Amount is right skewed with most borrowers given amount less than 20k"
   ]
  },
  {
   "cell_type": "code",
   "execution_count": null,
   "metadata": {},
   "outputs": [],
   "source": [
    "# start with a standard-scaled plot\n",
    "binsize = 0.01\n",
    "bins = np.arange(0, loan_data_cols['BorrowerAPR'].max()+binsize, binsize)\n",
    "\n",
    "plt.figure(figsize=[8, 5])\n",
    "plt.hist(data = loan_data_cols, x = 'BorrowerAPR', bins = bins)\n",
    "plt.xlabel('BorrowerAPR')\n",
    "plt.show()"
   ]
  },
  {
   "cell_type": "markdown",
   "metadata": {},
   "source": [
    "- Most loans have a APR less than 0.43 and very few loans have APR greater than 0.43"
   ]
  },
  {
   "cell_type": "code",
   "execution_count": null,
   "metadata": {
    "scrolled": true
   },
   "outputs": [],
   "source": [
    "# Check loans with an APR greater than 0.43\n",
    "loan_data_cols[loan_data_cols.BorrowerAPR>0.43]"
   ]
  },
  {
   "cell_type": "markdown",
   "metadata": {},
   "source": [
    "- Loans with APR greater than 0.43 have no ProsperRating and ProsperScore "
   ]
  },
  {
   "cell_type": "code",
   "execution_count": null,
   "metadata": {},
   "outputs": [],
   "source": [
    "loan_data_cols.info()"
   ]
  },
  {
   "cell_type": "code",
   "execution_count": null,
   "metadata": {},
   "outputs": [],
   "source": [
    "#Convert the PropserRating columnt to an ordered category type\n",
    "rate_order = ['HR','E','D','C','B','A','AA']\n",
    "ordered_var = pd.api.types.CategoricalDtype(ordered = True,\n",
    "                                    categories = rate_order)\n",
    "loan_data_cols['ProsperRating (Alpha)'] = loan_data_cols['ProsperRating (Alpha)'].astype(ordered_var)\n"
   ]
  },
  {
   "cell_type": "code",
   "execution_count": null,
   "metadata": {},
   "outputs": [],
   "source": [
    "#Studying the Employment Status \n",
    "loan_data_cols[\"EmploymentStatus\"].unique()"
   ]
  },
  {
   "cell_type": "code",
   "execution_count": null,
   "metadata": {},
   "outputs": [],
   "source": [
    "loan_data_cols[\"EmploymentStatus\"].value_counts()"
   ]
  },
  {
   "cell_type": "code",
   "execution_count": null,
   "metadata": {
    "scrolled": true
   },
   "outputs": [],
   "source": [
    "fig, ax = plt.subplots(nrows=3, figsize = [10,10])\n",
    "\n",
    "default_color = sb.color_palette()[0]\n",
    "sb.countplot(data = loan_data_cols, x = 'EmploymentStatus', color = default_color, ax = ax[0])\n",
    "sb.countplot(data = loan_data_cols, x = 'Term', color = default_color, ax = ax[1])\n",
    "sb.countplot(data = loan_data_cols, x = 'ProsperRating (Alpha)', color = default_color, ax = ax[2])\n",
    "plt.xticks(rotation=45);\n",
    "plt.show()"
   ]
  },
  {
   "cell_type": "markdown",
   "metadata": {},
   "source": [
    "- Most of the borrowers are employed and working full time\n",
    "- Most of the loans are in terms of 36 months or 3 years\n",
    "- The most ProsperRating is C followed by B"
   ]
  },
  {
   "cell_type": "code",
   "execution_count": null,
   "metadata": {
    "scrolled": true
   },
   "outputs": [],
   "source": [
    "loan_data_cols.dtypes"
   ]
  },
  {
   "cell_type": "markdown",
   "metadata": {},
   "source": [
    "## Bivariate Exploration\n",
    "\n",
    "> In this section, investigate relationships between pairs of variables in your\n",
    "data. Make sure the variables that you cover here have been introduced in some\n",
    "fashion in the previous section (univariate exploration)."
   ]
  },
  {
   "cell_type": "code",
   "execution_count": null,
   "metadata": {},
   "outputs": [],
   "source": [
    "numeric_vars = ['LoanOriginalAmount', 'BorrowerAPR',  'StatedMonthlyIncome']\n",
    "categoric_vars = ['EmploymentStatus', 'ProsperRating (Alpha)','Term']"
   ]
  },
  {
   "cell_type": "code",
   "execution_count": null,
   "metadata": {},
   "outputs": [],
   "source": [
    "# correlation plot\n",
    "plt.figure(figsize = [8, 5])\n",
    "sb.heatmap(loan_data_cols[numeric_vars].corr(), annot = True, fmt = '.3f',\n",
    "           cmap = 'vlag_r', center = 0)\n",
    "plt.show()"
   ]
  },
  {
   "cell_type": "code",
   "execution_count": null,
   "metadata": {},
   "outputs": [],
   "source": [
    "# plot matrix: sample 500 loans so that plots are clearer and they render faster\n",
    "loan_data_cols_samp = loan_data_cols.sample(n=500, replace = False)\n",
    "print(\"diamonds_samp.shape=\",loan_data_cols_samp.shape)\n",
    "\n",
    "g = sb.PairGrid(data = loan_data_cols_samp, vars = numeric_vars)\n",
    "g = g.map_diag(plt.hist, bins = 20);\n",
    "g.map_offdiag(plt.scatter)"
   ]
  },
  {
   "cell_type": "markdown",
   "metadata": {},
   "source": [
    "- The correlation  coefficient between the borrower APR and loan amount is -0.323. The scatter plots shows that the variables are negatively correlated meaning the higher the loan amount the lower the borrowers APR.\n",
    ">\n",
    "- There is a positive correlation between the borrowers stated monthly income and the loan original amount"
   ]
  },
  {
   "cell_type": "code",
   "execution_count": null,
   "metadata": {},
   "outputs": [],
   "source": [
    "## plot matrix of numeric features against categorical features.\n",
    "\n",
    "def boxgrid(x, y, **kwargs):\n",
    "    \"\"\" Quick hack for creating box plots with seaborn's PairGrid. \"\"\"\n",
    "    default_color = sb.color_palette()[0]\n",
    "    sb.boxplot(x=x, y=y, color=default_color)\n",
    "\n",
    "plt.figure(figsize = [15, 35])\n",
    "g = sb.PairGrid(data = loan_data_cols, y_vars = ['BorrowerAPR', 'StatedMonthlyIncome', 'LoanOriginalAmount'], x_vars = categoric_vars,\n",
    "                height = 5, aspect = 1.5)\n",
    "g.map(boxgrid)\n",
    "plt.xticks(rotation=45)\n",
    "plt.show();"
   ]
  },
  {
   "cell_type": "markdown",
   "metadata": {},
   "source": [
    "- The borrower APR decreases with better Prosper Rating(Alpha).\n",
    "- Borrowers who are employed receives higher Loan original amount.\n",
    "- The borrower APR decreases with increasing number of term"
   ]
  },
  {
   "cell_type": "code",
   "execution_count": null,
   "metadata": {},
   "outputs": [],
   "source": [
    "# since there's only three subplots to create, using the full data should be fine.\n",
    "plt.figure(figsize = [10, 10])\n",
    "# subplot 1:  Prosper rating vs. employment status\n",
    "plt.subplot(3, 1, 1)\n",
    "sb.countplot(data = loan_data_cols, x ='EmploymentStatus' , hue ='ProsperRating (Alpha)' , palette = 'Blues')\n",
    "\n",
    "# subplot 2:Prosper rating vs term\n",
    "ax = plt.subplot(3, 1, 2)\n",
    "sb.countplot(data = loan_data_cols, x = 'ProsperRating (Alpha)', hue = 'Term', palette = 'Blues')\n",
    "ax.legend(ncol = 2) # re-arrange legend to reduce overlapping\n",
    "\n",
    "# subplot 3: employment status vs. term \n",
    "ax = plt.subplot(3, 1, 3)\n",
    "sb.countplot(data = loan_data_cols, x = 'EmploymentStatus', hue = 'Term', palette = 'Greens')\n",
    "ax.legend(loc = 1, ncol = 2) # re-arrange legend to remove overlapping\n",
    "plt.xticks(rotation=10);\n",
    "plt.show()"
   ]
  },
  {
   "cell_type": "markdown",
   "metadata": {},
   "source": [
    " - There is an interaction between term and ProsperRating. There is only 36 months loans for HR rating borrowers\n",
    " - There is more 60 amd 36 month loans on B and C ratings"
   ]
  },
  {
   "cell_type": "markdown",
   "metadata": {},
   "source": [
    "### Relationship between LoanOriginalAmount and BorrowerAPR"
   ]
  },
  {
   "cell_type": "code",
   "execution_count": null,
   "metadata": {
    "scrolled": true
   },
   "outputs": [],
   "source": [
    "plt.figure(figsize = [8, 6])\n",
    "sb.regplot(data = loan_data_cols, x = 'LoanOriginalAmount', y = 'BorrowerAPR', scatter_kws={'alpha':0.02});\n"
   ]
  },
  {
   "cell_type": "markdown",
   "metadata": {},
   "source": [
    "- The borrower APR is negatively correlated with loan original amount that is the higher the loan amount the lower the APR"
   ]
  },
  {
   "cell_type": "markdown",
   "metadata": {},
   "source": [
    "## Multivariate Exploration\n"
   ]
  },
  {
   "cell_type": "code",
   "execution_count": null,
   "metadata": {
    "scrolled": true
   },
   "outputs": [],
   "source": [
    "# Term effect on relationship of APR and loan amount\n",
    "g=sb.FacetGrid(data=loan_data_cols, aspect=1.2, height=6, col='Term', col_wrap=4)\n",
    "g.map(sb.regplot, 'LoanOriginalAmount', 'BorrowerAPR', x_jitter=0.04, scatter_kws={'alpha':0.2});\n",
    "g.add_legend();"
   ]
  },
  {
   "cell_type": "markdown",
   "metadata": {},
   "source": [
    "Term does not have an effect on  relationship of APR and loan amount"
   ]
  },
  {
   "cell_type": "code",
   "execution_count": null,
   "metadata": {},
   "outputs": [],
   "source": [
    "# Prosper Rating effect on relationship of APR and loan amount\n",
    "g=sb.FacetGrid(data=loan_data_cols, aspect=1.2, height=5, col='ProsperRating (Alpha)', col_wrap=4)\n",
    "g.map(sb.regplot, 'LoanOriginalAmount', 'BorrowerAPR', x_jitter=0.04, scatter_kws={'alpha':0.2});\n",
    "g.add_legend();"
   ]
  },
  {
   "cell_type": "markdown",
   "metadata": {},
   "source": [
    "Prosper Rating  have effect on  relationship of LoanOriginalAmount and BorrowerAPR\n",
    "For borrowers with ratting AA, loan original amount increase as borrowerAPR increases"
   ]
  },
  {
   "cell_type": "code",
   "execution_count": null,
   "metadata": {},
   "outputs": [],
   "source": [
    "# Term effect on relationship of APR and loan amount\n",
    "g=sb.FacetGrid(data=loan_data_cols, aspect=1.2, height=5, col='Term', col_wrap=4)\n",
    "g.map(sb.regplot, 'LoanOriginalAmount', 'BorrowerAPR', x_jitter=0.04, scatter_kws={'alpha':0.1});\n",
    "g.add_legend();"
   ]
  },
  {
   "cell_type": "markdown",
   "metadata": {},
   "source": [
    "### Talk about some of the relationships you observed in this part of the investigation. Were there features that strengthened each other in terms of looking at your feature(s) of interest?\n",
    "\n",
    ">  The multivariate exploration showed that the relationship between borrower APR and loan amount turns from negative to slightly positive when the Prosper ratings increased from HR to AA. \n",
    "\n",
    ">For the rating and term effects on loans,it shows that with better Prosper rating, the loan amount of all three terms increases, the increase amplitude of loan amount between terms also becomes larger.\n",
    "\n",
    "### Were there any interesting or surprising interactions between features?\n",
    "\n",
    "> The borrower APR and loan amount is negatively correlated when the Prosper ratings are from HR to B, but the correlation is turned to be positive when the ratings are A and AA. Another interesting thing is that the borrower APR decrease with the increase of borrow term for people with HR-C raings. But for people with B-AA ratings, the APR increase with the borrow term."
   ]
  },
  {
   "cell_type": "code",
   "execution_count": null,
   "metadata": {},
   "outputs": [],
   "source": []
  },
  {
   "cell_type": "code",
   "execution_count": null,
   "metadata": {},
   "outputs": [],
   "source": []
  },
  {
   "cell_type": "code",
   "execution_count": null,
   "metadata": {},
   "outputs": [],
   "source": []
  }
 ],
 "metadata": {
  "kernelspec": {
   "display_name": "Python 3 (ipykernel)",
   "language": "python",
   "name": "python3"
  },
  "language_info": {
   "codemirror_mode": {
    "name": "ipython",
    "version": 3
   },
   "file_extension": ".py",
   "mimetype": "text/x-python",
   "name": "python",
   "nbconvert_exporter": "python",
   "pygments_lexer": "ipython3",
   "version": "3.9.12"
  }
 },
 "nbformat": 4,
 "nbformat_minor": 2
}
